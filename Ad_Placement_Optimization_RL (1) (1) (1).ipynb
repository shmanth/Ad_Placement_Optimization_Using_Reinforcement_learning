{
 "cells": [
  {
   "cell_type": "markdown",
   "metadata": {
    "id": "SjL3trTKWKK0"
   },
   "source": [
    "## Predicting the ad positioning using Q-Learning\n",
    "\n",
    "\n",
    "\n"
   ]
  },
  {
   "cell_type": "markdown",
   "metadata": {
    "id": "CBkuN4bRWOmr"
   },
   "source": [
    "Placement of ads on website is the primary problem for companies that operate on ad revenue. The position where the ad is placed plays pivotal role on whether or not the ad will be clicked. Here we have the following choices:\n",
    "\n",
    "Place them randomly, or\n",
    "Place the ad on the same position\n",
    "The problem with placing the ad on the same position is the user, after a certain time, will start ignoring the space since he's used to seeing ad at the place, he will end up ignoring that particular position hereafter. Hence, this will reduce the number of clicks on ads. The problem with the former option, placing them randomly, is it wouldn't take optimal positions into consideration. For instance, text beside images are viewed higher number of times than those text which are placed at a distance. It is infeasible to go through every website and repeat the procedure.\n",
    "\n",
    "Solution: Reinforcement Learning\n",
    "\n",
    "Using Reinforcement Learning we can approximate the human behavior.\n",
    "\n",
    "Why Reinforcement Learning?\n",
    "We cannot use traditional Machine Learning here, since it requires:\n",
    "\n",
    "Huge data\n",
    "Features\n",
    "Tuning of many hyperparameters\n",
    "And we neither have huge data, nor features. The only data we have is the position of the banner/ad and whether or not it was clicked. We will use this dataset from Kaggle: https://www.kaggle.com/akram24/ads-ctr-optimisation. We will solve this problem using both model-based (Policy iteration) and model-free methods(Q-Learning & Monte-Carlo). We'll simplify some assumptions for model-based technique.\n",
    "\n",
    "Notebook Layout\n",
    "MDP environment - Understanding the dataset\n",
    "Random Policy - placing the ads randomly on different webpages\n",
    "Max policy - placing the ad where it is clicked maximum number of times\n",
    "Model-based Method - Policy Iteration\n",
    "Model-free Method - Q-learning & Monte Carlo"
   ]
  },
  {
   "cell_type": "code",
   "execution_count": 1,
   "metadata": {
    "id": "QTYD5LbGcTF0"
   },
   "outputs": [],
   "source": [
    "# Importing libraries\n",
    "import pandas as pd\n",
    "import numpy as np\n",
    "import matplotlib.pyplot as plt\n",
    "import random\n",
    "import time"
   ]
  },
  {
   "cell_type": "markdown",
   "metadata": {
    "id": "LpkP-WRhWoop"
   },
   "source": [
    "Dataset\n",
    "Our environment will be the dataset. It contains 10 ads position per row having values either 1, when the ad is clicked, or 0 when it is not. Every row can be considered as a state in the space, considering it kind of a navigation across multiple pages (on website, for instance) Lets load the dataset and visualize the first few rows.\n",
    "\n",
    "state = webpage\n",
    "action = placing the ad at any of the 10 positions on a webpage\n",
    "reward = +1 if the ad was clicked at the position; else 0\n",
    "Transition Probability: next webpage that user will end up in is random; therefore, it is 1/(total_webpages -1)"
   ]
  },
  {
   "cell_type": "code",
   "execution_count": 2,
   "metadata": {
    "colab": {
     "base_uri": "https://localhost:8080/",
     "height": 206
    },
    "id": "ww2HLEDLWkG6",
    "outputId": "88257160-b026-4ee7-c03b-7c18b8e53121"
   },
   "outputs": [
    {
     "data": {
      "text/html": [
       "<div>\n",
       "<style scoped>\n",
       "    .dataframe tbody tr th:only-of-type {\n",
       "        vertical-align: middle;\n",
       "    }\n",
       "\n",
       "    .dataframe tbody tr th {\n",
       "        vertical-align: top;\n",
       "    }\n",
       "\n",
       "    .dataframe thead th {\n",
       "        text-align: right;\n",
       "    }\n",
       "</style>\n",
       "<table border=\"1\" class=\"dataframe\">\n",
       "  <thead>\n",
       "    <tr style=\"text-align: right;\">\n",
       "      <th></th>\n",
       "      <th>Ad 1</th>\n",
       "      <th>Ad 2</th>\n",
       "      <th>Ad 3</th>\n",
       "      <th>Ad 4</th>\n",
       "      <th>Ad 5</th>\n",
       "      <th>Ad 6</th>\n",
       "      <th>Ad 7</th>\n",
       "      <th>Ad 8</th>\n",
       "      <th>Ad 9</th>\n",
       "      <th>Ad 10</th>\n",
       "    </tr>\n",
       "  </thead>\n",
       "  <tbody>\n",
       "    <tr>\n",
       "      <th>0</th>\n",
       "      <td>1</td>\n",
       "      <td>0</td>\n",
       "      <td>0</td>\n",
       "      <td>0</td>\n",
       "      <td>1</td>\n",
       "      <td>0</td>\n",
       "      <td>0</td>\n",
       "      <td>0</td>\n",
       "      <td>1</td>\n",
       "      <td>0</td>\n",
       "    </tr>\n",
       "    <tr>\n",
       "      <th>1</th>\n",
       "      <td>0</td>\n",
       "      <td>0</td>\n",
       "      <td>0</td>\n",
       "      <td>0</td>\n",
       "      <td>0</td>\n",
       "      <td>0</td>\n",
       "      <td>0</td>\n",
       "      <td>0</td>\n",
       "      <td>1</td>\n",
       "      <td>0</td>\n",
       "    </tr>\n",
       "    <tr>\n",
       "      <th>2</th>\n",
       "      <td>0</td>\n",
       "      <td>0</td>\n",
       "      <td>0</td>\n",
       "      <td>0</td>\n",
       "      <td>0</td>\n",
       "      <td>0</td>\n",
       "      <td>0</td>\n",
       "      <td>0</td>\n",
       "      <td>0</td>\n",
       "      <td>0</td>\n",
       "    </tr>\n",
       "    <tr>\n",
       "      <th>3</th>\n",
       "      <td>0</td>\n",
       "      <td>1</td>\n",
       "      <td>0</td>\n",
       "      <td>0</td>\n",
       "      <td>0</td>\n",
       "      <td>0</td>\n",
       "      <td>0</td>\n",
       "      <td>1</td>\n",
       "      <td>0</td>\n",
       "      <td>0</td>\n",
       "    </tr>\n",
       "    <tr>\n",
       "      <th>4</th>\n",
       "      <td>0</td>\n",
       "      <td>0</td>\n",
       "      <td>0</td>\n",
       "      <td>0</td>\n",
       "      <td>0</td>\n",
       "      <td>0</td>\n",
       "      <td>0</td>\n",
       "      <td>0</td>\n",
       "      <td>0</td>\n",
       "      <td>0</td>\n",
       "    </tr>\n",
       "  </tbody>\n",
       "</table>\n",
       "</div>"
      ],
      "text/plain": [
       "   Ad 1  Ad 2  Ad 3  Ad 4  Ad 5  Ad 6  Ad 7  Ad 8  Ad 9  Ad 10\n",
       "0     1     0     0     0     1     0     0     0     1      0\n",
       "1     0     0     0     0     0     0     0     0     1      0\n",
       "2     0     0     0     0     0     0     0     0     0      0\n",
       "3     0     1     0     0     0     0     0     1     0      0\n",
       "4     0     0     0     0     0     0     0     0     0      0"
      ]
     },
     "execution_count": 2,
     "metadata": {},
     "output_type": "execute_result"
    }
   ],
   "source": [
    "env_data= pd.read_csv(\"Ads_CTR_Optimisation.csv\")\n",
    "env_data.head()"
   ]
  },
  {
   "cell_type": "code",
   "execution_count": 3,
   "metadata": {
    "colab": {
     "base_uri": "https://localhost:8080/",
     "height": 300
    },
    "id": "RwslVTmseD3n",
    "outputId": "ec7386b7-4f8d-457a-b10d-e829b24d4281"
   },
   "outputs": [
    {
     "data": {
      "text/html": [
       "<div>\n",
       "<style scoped>\n",
       "    .dataframe tbody tr th:only-of-type {\n",
       "        vertical-align: middle;\n",
       "    }\n",
       "\n",
       "    .dataframe tbody tr th {\n",
       "        vertical-align: top;\n",
       "    }\n",
       "\n",
       "    .dataframe thead th {\n",
       "        text-align: right;\n",
       "    }\n",
       "</style>\n",
       "<table border=\"1\" class=\"dataframe\">\n",
       "  <thead>\n",
       "    <tr style=\"text-align: right;\">\n",
       "      <th></th>\n",
       "      <th>Ad 1</th>\n",
       "      <th>Ad 2</th>\n",
       "      <th>Ad 3</th>\n",
       "      <th>Ad 4</th>\n",
       "      <th>Ad 5</th>\n",
       "      <th>Ad 6</th>\n",
       "      <th>Ad 7</th>\n",
       "      <th>Ad 8</th>\n",
       "      <th>Ad 9</th>\n",
       "      <th>Ad 10</th>\n",
       "    </tr>\n",
       "  </thead>\n",
       "  <tbody>\n",
       "    <tr>\n",
       "      <th>count</th>\n",
       "      <td>10000.000000</td>\n",
       "      <td>10000.000000</td>\n",
       "      <td>10000.000000</td>\n",
       "      <td>10000.000000</td>\n",
       "      <td>10000.000000</td>\n",
       "      <td>10000.000000</td>\n",
       "      <td>10000.000000</td>\n",
       "      <td>10000.000000</td>\n",
       "      <td>10000.000000</td>\n",
       "      <td>10000.00000</td>\n",
       "    </tr>\n",
       "    <tr>\n",
       "      <th>mean</th>\n",
       "      <td>0.170300</td>\n",
       "      <td>0.129500</td>\n",
       "      <td>0.072800</td>\n",
       "      <td>0.119600</td>\n",
       "      <td>0.269500</td>\n",
       "      <td>0.012600</td>\n",
       "      <td>0.111200</td>\n",
       "      <td>0.209100</td>\n",
       "      <td>0.095200</td>\n",
       "      <td>0.04890</td>\n",
       "    </tr>\n",
       "    <tr>\n",
       "      <th>std</th>\n",
       "      <td>0.375915</td>\n",
       "      <td>0.335769</td>\n",
       "      <td>0.259821</td>\n",
       "      <td>0.324509</td>\n",
       "      <td>0.443722</td>\n",
       "      <td>0.111546</td>\n",
       "      <td>0.314395</td>\n",
       "      <td>0.406686</td>\n",
       "      <td>0.293506</td>\n",
       "      <td>0.21567</td>\n",
       "    </tr>\n",
       "    <tr>\n",
       "      <th>min</th>\n",
       "      <td>0.000000</td>\n",
       "      <td>0.000000</td>\n",
       "      <td>0.000000</td>\n",
       "      <td>0.000000</td>\n",
       "      <td>0.000000</td>\n",
       "      <td>0.000000</td>\n",
       "      <td>0.000000</td>\n",
       "      <td>0.000000</td>\n",
       "      <td>0.000000</td>\n",
       "      <td>0.00000</td>\n",
       "    </tr>\n",
       "    <tr>\n",
       "      <th>25%</th>\n",
       "      <td>0.000000</td>\n",
       "      <td>0.000000</td>\n",
       "      <td>0.000000</td>\n",
       "      <td>0.000000</td>\n",
       "      <td>0.000000</td>\n",
       "      <td>0.000000</td>\n",
       "      <td>0.000000</td>\n",
       "      <td>0.000000</td>\n",
       "      <td>0.000000</td>\n",
       "      <td>0.00000</td>\n",
       "    </tr>\n",
       "    <tr>\n",
       "      <th>50%</th>\n",
       "      <td>0.000000</td>\n",
       "      <td>0.000000</td>\n",
       "      <td>0.000000</td>\n",
       "      <td>0.000000</td>\n",
       "      <td>0.000000</td>\n",
       "      <td>0.000000</td>\n",
       "      <td>0.000000</td>\n",
       "      <td>0.000000</td>\n",
       "      <td>0.000000</td>\n",
       "      <td>0.00000</td>\n",
       "    </tr>\n",
       "    <tr>\n",
       "      <th>75%</th>\n",
       "      <td>0.000000</td>\n",
       "      <td>0.000000</td>\n",
       "      <td>0.000000</td>\n",
       "      <td>0.000000</td>\n",
       "      <td>1.000000</td>\n",
       "      <td>0.000000</td>\n",
       "      <td>0.000000</td>\n",
       "      <td>0.000000</td>\n",
       "      <td>0.000000</td>\n",
       "      <td>0.00000</td>\n",
       "    </tr>\n",
       "    <tr>\n",
       "      <th>max</th>\n",
       "      <td>1.000000</td>\n",
       "      <td>1.000000</td>\n",
       "      <td>1.000000</td>\n",
       "      <td>1.000000</td>\n",
       "      <td>1.000000</td>\n",
       "      <td>1.000000</td>\n",
       "      <td>1.000000</td>\n",
       "      <td>1.000000</td>\n",
       "      <td>1.000000</td>\n",
       "      <td>1.00000</td>\n",
       "    </tr>\n",
       "  </tbody>\n",
       "</table>\n",
       "</div>"
      ],
      "text/plain": [
       "               Ad 1          Ad 2          Ad 3          Ad 4          Ad 5  \\\n",
       "count  10000.000000  10000.000000  10000.000000  10000.000000  10000.000000   \n",
       "mean       0.170300      0.129500      0.072800      0.119600      0.269500   \n",
       "std        0.375915      0.335769      0.259821      0.324509      0.443722   \n",
       "min        0.000000      0.000000      0.000000      0.000000      0.000000   \n",
       "25%        0.000000      0.000000      0.000000      0.000000      0.000000   \n",
       "50%        0.000000      0.000000      0.000000      0.000000      0.000000   \n",
       "75%        0.000000      0.000000      0.000000      0.000000      1.000000   \n",
       "max        1.000000      1.000000      1.000000      1.000000      1.000000   \n",
       "\n",
       "               Ad 6          Ad 7          Ad 8          Ad 9        Ad 10  \n",
       "count  10000.000000  10000.000000  10000.000000  10000.000000  10000.00000  \n",
       "mean       0.012600      0.111200      0.209100      0.095200      0.04890  \n",
       "std        0.111546      0.314395      0.406686      0.293506      0.21567  \n",
       "min        0.000000      0.000000      0.000000      0.000000      0.00000  \n",
       "25%        0.000000      0.000000      0.000000      0.000000      0.00000  \n",
       "50%        0.000000      0.000000      0.000000      0.000000      0.00000  \n",
       "75%        0.000000      0.000000      0.000000      0.000000      0.00000  \n",
       "max        1.000000      1.000000      1.000000      1.000000      1.00000  "
      ]
     },
     "execution_count": 3,
     "metadata": {},
     "output_type": "execute_result"
    }
   ],
   "source": [
    "env_data.describe()"
   ]
  },
  {
   "cell_type": "code",
   "execution_count": 4,
   "metadata": {
    "colab": {
     "base_uri": "https://localhost:8080/"
    },
    "id": "IYn39Gx4eXIr",
    "outputId": "a346386a-dc2c-4a5d-9c37-1711e68641b6"
   },
   "outputs": [
    {
     "data": {
      "text/plain": [
       "0    8297\n",
       "1    1703\n",
       "Name: Ad 1, dtype: int64"
      ]
     },
     "execution_count": 4,
     "metadata": {},
     "output_type": "execute_result"
    }
   ],
   "source": [
    "env_data[\"Ad 1\"].value_counts()"
   ]
  },
  {
   "cell_type": "markdown",
   "metadata": {
    "id": "ACl8vEKtYADF"
   },
   "source": [
    "### Random policy -\n",
    "If we were to not have Reinforcement Learning, we would place the ads randomly at given positions. We will now simulate the same\n",
    "\n"
   ]
  },
  {
   "cell_type": "code",
   "execution_count": 5,
   "metadata": {
    "colab": {
     "base_uri": "https://localhost:8080/"
    },
    "id": "Cg_nwx_KWkw4",
    "outputId": "36e6333f-5f4f-438c-c584-4e1456227390"
   },
   "outputs": [
    {
     "name": "stdout",
     "output_type": "stream",
     "text": [
      "Total reward: 1244\n"
     ]
    }
   ],
   "source": [
    "#Choosing a random position to place the ad\n",
    "reward= 0 # initializing the reward\n",
    "\n",
    "for i in range(len(env_data)):\n",
    "    action= np.random.randint(0,10)\n",
    "    # check if random action matches with the ad position\n",
    "    if env_data.values[i][action] == 1:\n",
    "      # Increase the rewards if the position matches\n",
    "      reward += 1\n",
    "print(\"Total reward: {}\".format(reward))"
   ]
  },
  {
   "cell_type": "markdown",
   "metadata": {
    "id": "qWSd6Vr3lPRx"
   },
   "source": [
    "The total rewards is too low as compared to the data\n"
   ]
  },
  {
   "cell_type": "markdown",
   "metadata": {
    "id": "Sn4hjEA2hXzR"
   },
   "source": [
    "### Using Max Policy\n",
    "Another question we might ask: is it right to display the ad where it is clicked the most number of times. For instance, there might be a certain position where the ad clicked with a higher probability. Since the values of the rows is either 1 or 0, we can sum across the columns and count the number of times ad in the position was clicked."
   ]
  },
  {
   "cell_type": "code",
   "execution_count": 6,
   "metadata": {
    "colab": {
     "base_uri": "https://localhost:8080/",
     "height": 394
    },
    "id": "r00HoShrWkz-",
    "outputId": "a8a41185-8cd3-4799-dfd7-581bdb94dcca"
   },
   "outputs": [
    {
     "data": {
      "text/html": [
       "<div>\n",
       "<style scoped>\n",
       "    .dataframe tbody tr th:only-of-type {\n",
       "        vertical-align: middle;\n",
       "    }\n",
       "\n",
       "    .dataframe tbody tr th {\n",
       "        vertical-align: top;\n",
       "    }\n",
       "\n",
       "    .dataframe thead th {\n",
       "        text-align: right;\n",
       "    }\n",
       "</style>\n",
       "<table border=\"1\" class=\"dataframe\">\n",
       "  <thead>\n",
       "    <tr style=\"text-align: right;\">\n",
       "      <th></th>\n",
       "      <th>counts</th>\n",
       "    </tr>\n",
       "    <tr>\n",
       "      <th>ad</th>\n",
       "      <th></th>\n",
       "    </tr>\n",
       "  </thead>\n",
       "  <tbody>\n",
       "    <tr>\n",
       "      <th>1</th>\n",
       "      <td>1703</td>\n",
       "    </tr>\n",
       "    <tr>\n",
       "      <th>2</th>\n",
       "      <td>1295</td>\n",
       "    </tr>\n",
       "    <tr>\n",
       "      <th>3</th>\n",
       "      <td>728</td>\n",
       "    </tr>\n",
       "    <tr>\n",
       "      <th>4</th>\n",
       "      <td>1196</td>\n",
       "    </tr>\n",
       "    <tr>\n",
       "      <th>5</th>\n",
       "      <td>2695</td>\n",
       "    </tr>\n",
       "    <tr>\n",
       "      <th>6</th>\n",
       "      <td>126</td>\n",
       "    </tr>\n",
       "    <tr>\n",
       "      <th>7</th>\n",
       "      <td>1112</td>\n",
       "    </tr>\n",
       "    <tr>\n",
       "      <th>8</th>\n",
       "      <td>2091</td>\n",
       "    </tr>\n",
       "    <tr>\n",
       "      <th>9</th>\n",
       "      <td>952</td>\n",
       "    </tr>\n",
       "    <tr>\n",
       "      <th>10</th>\n",
       "      <td>489</td>\n",
       "    </tr>\n",
       "  </tbody>\n",
       "</table>\n",
       "</div>"
      ],
      "text/plain": [
       "    counts\n",
       "ad        \n",
       "1     1703\n",
       "2     1295\n",
       "3      728\n",
       "4     1196\n",
       "5     2695\n",
       "6      126\n",
       "7     1112\n",
       "8     2091\n",
       "9      952\n",
       "10     489"
      ]
     },
     "execution_count": 6,
     "metadata": {},
     "output_type": "execute_result"
    }
   ],
   "source": [
    "click_counts= env_data.sum(axis=0)\n",
    "counts= pd.DataFrame({\"ad\": np.arange(1,11), \"counts\": click_counts})\n",
    "counts.set_index(\"ad\")"
   ]
  },
  {
   "cell_type": "markdown",
   "metadata": {
    "id": "T1mV_YFrlL4W"
   },
   "source": [
    "Which indicates ad 5 was clicked 2695 times. So if we were to always place an ad on position 5, it would be click around 2695 times. But can we do better?"
   ]
  },
  {
   "cell_type": "markdown",
   "metadata": {
    "id": "GhuUEomllanw"
   },
   "source": [
    "## Dynamic Programming - Policy iteration"
   ]
  },
  {
   "cell_type": "code",
   "execution_count": 7,
   "metadata": {
    "id": "wkbyjxM_Wk5q"
   },
   "outputs": [],
   "source": [
    "state_size = len(env_data)\n",
    "\n",
    "state_list = []\n",
    "for state in range(state_size):\n",
    "    state_list.append(state)"
   ]
  },
  {
   "cell_type": "code",
   "execution_count": 8,
   "metadata": {
    "colab": {
     "background_save": true,
     "base_uri": "https://localhost:8080/"
    },
    "id": "fnAomfg8lmJK",
    "outputId": "ed7e2891-e96e-4c58-d877-29fa9b0ccf51"
   },
   "outputs": [
    {
     "name": "stdout",
     "output_type": "stream",
     "text": [
      "Current episode is 100\n",
      "Current episode is 200\n",
      "Current episode is 300\n",
      "Current episode is 400\n",
      "Current episode is 500\n",
      "Total time taken 2313.677437067032\n",
      "Total no. of episodes 501\n"
     ]
    }
   ],
   "source": [
    "start= time.time()\n",
    "\n",
    "# Action can be placing the at any of the ten positions.\n",
    "action_space= np.arange(0,10)\n",
    "policy= [random.choice(action_space) for x in range(state_size)]\n",
    "# Taking random action for the first time\n",
    "first_time= True\n",
    "#Delta\n",
    "small_change= 1e-20\n",
    "#Discount Factor\n",
    "gamma= 0.9\n",
    "\n",
    "episodes= 0\n",
    "max_episodes= 500\n",
    "\n",
    "V= dict()\n",
    "# Setting terminal state reward to 1\n",
    "V[10000]= 1\n",
    "# initializing Value function for all states with random values between 0 to 1\n",
    "for i in range(state_size):\n",
    "  V[i]= np.random.random()\n",
    "deltas=[]\n",
    "\n",
    "while episodes < max_episodes:\n",
    "  # Untill the convergence of state_value function doing Policy evaluation\n",
    "  while True:\n",
    "    if episodes > max_episodes:\n",
    "      break\n",
    "    episodes += 1\n",
    "    if episodes % 100 == 0:\n",
    "      print(\"Current episode is {}\".format(episodes) )\n",
    "    biggest_change= 0\n",
    "    # looping through all states\n",
    "    for state in range(state_size):\n",
    "      old_V= V[state]\n",
    "      #Taking random action according to policy\n",
    "      action= policy[state]\n",
    "      new_state= random.choice(list(set(state_list)-set([state])))\n",
    "      rewards=env_data.values[state][action]\n",
    "      V[state]= (rewards + gamma*(V[new_state]))/9999\n",
    "      # Here We are calculating biggest change to have an idea on convergence.\n",
    "      # Initially, the changes will be huge, but as we update the values, they will tend towards a convergence point\n",
    "      biggest_change= max(biggest_change, abs(V[state] - old_V))\n",
    "    deltas.append(biggest_change)\n",
    "    if biggest_change < small_change:\n",
    "        break\n",
    "  #Policy Improvement\n",
    "  policy_changed= False\n",
    "  for state in range(state_size):\n",
    "    best_val= -np.inf\n",
    "    best_action= -1\n",
    "    for action in action_space:\n",
    "      new_state= random.choice(list(set(state_list)-set([state])))\n",
    "      rewards=env_data.values[state][action]\n",
    "      future_reward= (rewards + gamma * V[new_state])/9999\n",
    "      if future_reward > best_val:\n",
    "        best_val= future_reward\n",
    "        best_action= action\n",
    "    assert best_action != -1\n",
    "    if policy[state] != best_action:\n",
    "      policy_changed= True\n",
    "    policy[state]=best_action\n",
    "\n",
    "  if not policy_changed:\n",
    "    break\n",
    "\n",
    "end=time.time()\n",
    "print(\"Total time taken {}\".format(end-start))\n",
    "print(\"Total no. of episodes {}\".format(episodes))"
   ]
  },
  {
   "cell_type": "code",
   "execution_count": 9,
   "metadata": {
    "colab": {
     "background_save": true
    },
    "id": "NjwErDGNlmPO",
    "outputId": "03953a11-2ef4-4ceb-9e73-14a3b1e826bb"
   },
   "outputs": [
    {
     "data": {
      "image/png": "[encoded data removed]",
      "text/plain": [
       "<Figure size 576x288 with 1 Axes>"
      ]
     },
     "metadata": {
      "needs_background": "light"
     },
     "output_type": "display_data"
    }
   ],
   "source": [
    "plt.rcParams[\"figure.figsize\"]=(8,4)\n",
    "plt.plot(deltas, label= \"deltas\")\n",
    "plt.legend()\n",
    "plt.title(\"Convergence plot of dynamic programming- policy iteration\")\n",
    "plt.tight_layout\n",
    "plt.show()"
   ]
  },
  {
   "cell_type": "code",
   "execution_count": 10,
   "metadata": {
    "colab": {
     "background_save": true
    },
    "id": "M5gNipwRWk80",
    "outputId": "74393686-aa67-4844-9043-70a9f27d40e4"
   },
   "outputs": [
    {
     "name": "stdout",
     "output_type": "stream",
     "text": [
      "Total Rewards from policy iteration: 7424\n"
     ]
    }
   ],
   "source": [
    "rewards= 0\n",
    "\n",
    "for j in range(state_size):\n",
    "  action= policy[j]\n",
    "  if env_data.values[j][action] == 1:\n",
    "    rewards += 1\n",
    "print(\"Total Rewards from policy iteration: {}\".format(rewards))"
   ]
  },
  {
   "cell_type": "markdown",
   "metadata": {
    "id": "QISRzgYS_tXg"
   },
   "source": [
    "### Using Q-Learning\n",
    "The reason for using Q-Learning here is :\n",
    "\n",
    "It is model free, so it doesn't require to know all the states.\n",
    "Intuitive to understand, and converges faster.\n",
    "We will use Q-Learning with Epsilon Decay. Initially, we will start with a very high epsilon value. Which would make the model explore, instead of exploit. After a few iterations, we will reduce this \"exploration probability\" so the model will exploit, instead of exploring. After many iterations, the model would have high confidence and no more exploration is necessary.\n",
    "\n",
    "This strategy is called as \"epsilon greedy\". We will use a decay rate to change the epsilon value such that it becomes lower after many iterations."
   ]
  },
  {
   "cell_type": "code",
   "execution_count": 11,
   "metadata": {
    "colab": {
     "background_save": true
    },
    "id": "0_c3WnseSr3T"
   },
   "outputs": [],
   "source": [
    "# Initializing parameters required for q-learning\n",
    "states= len(env_data)\n",
    "actions=10\n",
    "\n",
    "# initializing q-values to zero\n",
    "q_table= np.zeros((states+1, actions))\n",
    "\n",
    "\n",
    "learning_rate=0.7\n",
    "gamma=0.618\n",
    "\n",
    "# setting exploration probability to high value initially\n",
    "epsilon=1\n",
    "min_epsilon= 0.01\n",
    "max_epsilon= 1\n",
    "decay_rate=0.01\n",
    "max_episodes=500"
   ]
  },
  {
   "cell_type": "code",
   "execution_count": 12,
   "metadata": {
    "colab": {
     "background_save": true
    },
    "id": "OI0lwlpjSr5a"
   },
   "outputs": [],
   "source": [
    "def exploit(eps):\n",
    "  # decides whether or not to exploit\n",
    "  return np.random.uniform() > eps\n",
    "\n",
    "def random_action():\n",
    "  return np.random.randint(0,10)"
   ]
  },
  {
   "cell_type": "code",
   "execution_count": 13,
   "metadata": {
    "colab": {
     "background_save": true
    },
    "id": "Zr-8m6NwSr9S"
   },
   "outputs": [
    {
     "name": "stdout",
     "output_type": "stream",
     "text": [
      "Current episode: 0\n",
      "Current episode: 25\n",
      "Current episode: 50\n",
      "Current episode: 75\n",
      "Current episode: 100\n",
      "Current episode: 125\n",
      "Current episode: 150\n",
      "Current episode: 175\n",
      "Current episode: 200\n",
      "Current episode: 225\n",
      "Current episode: 300\n",
      "Current episode: 325\n",
      "Current episode: 350\n",
      "Current episode: 375\n",
      "Current episode: 400\n",
      "Current episode: 425\n",
      "Current episode: 450\n",
      "Current episode: 475\n",
      "Current episode: 500\n"
     ]
    }
   ],
   "source": [
    "deltas= []\n",
    "reward=0\n",
    "\n",
    "for episode in range(max_episodes+1):\n",
    "  if episode % 25 == 0:\n",
    "    print(\"Current episode: {}\".format(episode))\n",
    "  biggest_change=0\n",
    "  for state in range(states):\n",
    "    if exploit(epsilon):\n",
    "      action= random_action()\n",
    "    else:\n",
    "      action= np.argmax(q_table[state])\n",
    "    r= env_data.values[state][action]\n",
    "    reward += r\n",
    "    old_q= q_table[state][action]\n",
    "    new_state= random.choice(list(set(state_list)-set([state])))\n",
    "    q_table[state][action] += learning_rate*(r+gamma*np.max(q_table[new_state,:])-q_table[state][action])\n",
    "    biggest_change= max(biggest_change, abs(q_table[state][action]-old_q))\n",
    "  deltas.append(biggest_change)\n",
    "  epsilon= min_epsilon + (max_epsilon - min_epsilon) * np.exp(-decay_rate*episode)"
   ]
  },
  {
   "cell_type": "code",
   "execution_count": 14,
   "metadata": {
    "colab": {
     "background_save": true
    },
    "id": "0uM60zDsSr_U"
   },
   "outputs": [
    {
     "data": {
      "image/png": "[encoded data removed]",
      "text/plain": [
       "<Figure size 576x288 with 1 Axes>"
      ]
     },
     "metadata": {
      "needs_background": "light"
     },
     "output_type": "display_data"
    }
   ],
   "source": [
    "plt.plot(deltas, label=\"Deltas\")\n",
    "plt.legend()\n",
    "plt.title(\"Convergence Plot - Q-learning\")\n",
    "plt.tight_layout()"
   ]
  },
  {
   "cell_type": "code",
   "execution_count": 17,
   "metadata": {
    "colab": {
     "background_save": true
    },
    "id": "-qKtUHg7SsBa"
   },
   "outputs": [
    {
     "name": "stdout",
     "output_type": "stream",
     "text": [
      "Total Rewards: 7424\n"
     ]
    }
   ],
   "source": [
    "rewards= 0\n",
    "for state in range(states):\n",
    "    best_action= np.argmax(q_table[state,:])\n",
    "    r=  env_data.values[state][best_action]\n",
    "    rewards += r\n",
    "print(\"Total Rewards: {}\".format(rewards))"
   ]
  },
  {
   "cell_type": "markdown",
   "metadata": {
    "id": "cxH5qx8NOvyD"
   },
   "source": [
    "## Monte Carlo Method"
   ]
  },
  {
   "cell_type": "code",
   "execution_count": 7,
   "metadata": {
    "colab": {
     "background_save": true
    },
    "id": "qQqpn98kSsFF"
   },
   "outputs": [],
   "source": [
    "def random_policy(state):\n",
    "  return np.random.randint(0,10)\n",
    "\n",
    "def simulate(policy):\n",
    "  rsa= []\n",
    "\n",
    "  for s in range(env_data.shape[0]):\n",
    "    if np.random.uniform() < 0.1:\n",
    "      action= np.random.randint(0,10)\n",
    "    else:\n",
    "      action= policy[s]\n",
    "    rewards=env_data.values[s][action]\n",
    "    rsa.append((rewards, s, action))\n",
    "\n",
    "  G= 0\n",
    "  gamma= 0.3\n",
    "  first= True\n",
    "  state_returns= []\n",
    "  for rewards, s, a in reversed(rsa):\n",
    "    G= G + gamma * rewards\n",
    "    if first:\n",
    "      first= False\n",
    "      continue\n",
    "    else:\n",
    "      state_returns.append((s, a, G))\n",
    "      state_returns.reverse()\n",
    "  return state_returns"
   ]
  },
  {
   "cell_type": "code",
   "execution_count": 8,
   "metadata": {
    "id": "rUCXikBYYdzU"
   },
   "outputs": [
    {
     "name": "stdout",
     "output_type": "stream",
     "text": [
      "Current episode 0\n"
     ]
    },
    {
     "name": "stderr",
     "output_type": "stream",
     "text": [
      "/tmp/ipykernel_406/1751381815.py:17: DeprecationWarning: `np.int` is a deprecated alias for the builtin `int`. To silence this warning, use `int` by itself. Doing this will not modify any behavior and is safe. When replacing `np.int`, you may wish to use e.g. `np.int64` or `np.int32` to specify the precision. If you wish to review your current use, check the release note link for additional information.\n",
      "Deprecated in NumPy 1.20; for more details and guidance: https://numpy.org/devdocs/release/1.20.0-notes.html#deprecations\n",
      "  change= np.maximum(change,np.abs(Q[state][action]-old_q).astype(np.int))\n"
     ]
    },
    {
     "name": "stdout",
     "output_type": "stream",
     "text": [
      "Current episode 100\n",
      "Current episode 200\n",
      "Current episode 300\n",
      "Current episode 400\n",
      "Current episode 500\n",
      "Current episode 600\n",
      "Current episode 700\n",
      "Current episode 800\n",
      "Current episode 900\n",
      "Current episode 1000\n",
      "Current episode 1100\n",
      "Current episode 1200\n",
      "Current episode 1300\n",
      "Current episode 1400\n",
      "Current episode 1500\n",
      "Current episode 1600\n",
      "Current episode 1700\n",
      "Current episode 1800\n",
      "Current episode 1900\n"
     ]
    }
   ],
   "source": [
    "from collections import defaultdict\n",
    "\n",
    "policy= {s: np.random.randint(0,10) for s in range(10000)}\n",
    "Q= np.zeros(env_data.values.shape)\n",
    "returns= defaultdict(list)\n",
    "deltas= []\n",
    "episodes= 2000\n",
    "for x in range(episodes):\n",
    "  if x % 100 == 0:\n",
    "    print(\"Current episode {}\".format(x))\n",
    "  state_returns= simulate(policy)\n",
    "  change= 0.0\n",
    "  for state, action, G in state_returns:\n",
    "    old_q= Q[state][action]\n",
    "    returns[(state, action)].append(G)\n",
    "    Q[state][action]= np.mean(returns[(state, action)])\n",
    "    change= np.maximum(change,np.abs(Q[state][action]-old_q).astype(np.int))\n",
    "  deltas.append(change)\n",
    "  for s in range(10000):\n",
    "    policy[s]= np.argmax(Q[s,:])"
   ]
  },
  {
   "cell_type": "code",
   "execution_count": 13,
   "metadata": {
    "id": "VTwM5_NIYd1q"
   },
   "outputs": [
    {
     "data": {
      "image/png": "[encoded data removed]",
      "text/plain": [
       "<Figure size 432x288 with 1 Axes>"
      ]
     },
     "metadata": {
      "needs_background": "light"
     },
     "output_type": "display_data"
    }
   ],
   "source": [
    "plt.plot(deltas, label=\"deltas\")\n",
    "plt.legend()\n",
    "plt.title(\"Convergence Plot - Monte Carlo\")\n",
    "plt.tight_layout()"
   ]
  },
  {
   "cell_type": "code",
   "execution_count": 14,
   "metadata": {
    "id": "XMe-Xk_iYd4X"
   },
   "outputs": [
    {
     "name": "stdout",
     "output_type": "stream",
     "text": [
      "0\n"
     ]
    }
   ],
   "source": [
    "# calculationg rewards\n",
    "rewards= 0\n",
    "for i in range(le):\n",
    "    a= np.argmax(Q[s,:])\n",
    "    rewards += env_data.values[s][a]\n",
    "print(rewards)"
   ]
  },
  {
   "cell_type": "code",
   "execution_count": null,
   "metadata": {
    "id": "X-JeiPfyYd7V"
   },
   "outputs": [],
   "source": []
  },
  {
   "cell_type": "code",
   "execution_count": null,
   "metadata": {
    "id": "q8K5p1zSYd9u"
   },
   "outputs": [],
   "source": []
  },
  {
   "cell_type": "code",
   "execution_count": null,
   "metadata": {
    "id": "y6-YSJnRYeAQ"
   },
   "outputs": [],
   "source": []
  },
  {
   "cell_type": "code",
   "execution_count": null,
   "metadata": {
    "id": "pshNJe_8YeDr"
   },
   "outputs": [],
   "source": []
  },
  {
   "cell_type": "code",
   "execution_count": null,
   "metadata": {
    "colab": {
     "background_save": true
    },
    "id": "m6a7EsyWSsHn"
   },
   "outputs": [],
   "source": []
  },
  {
   "cell_type": "code",
   "execution_count": null,
   "metadata": {
    "colab": {
     "background_save": true
    },
    "id": "QAZGm6_iSsMa"
   },
   "outputs": [],
   "source": []
  },
  {
   "cell_type": "code",
   "execution_count": null,
   "metadata": {
    "colab": {
     "background_save": true
    },
    "id": "MsnFLkf3Wk_d"
   },
   "outputs": [],
   "source": []
  }
 ],
 "metadata": {
  "colab": {
   "provenance": []
  },
  "kernelspec": {
   "display_name": "Python 3 (ipykernel)",
   "language": "python",
   "name": "python3"
  },
  "language_info": {
   "codemirror_mode": {
    "name": "ipython",
    "version": 3
   },
   "file_extension": ".py",
   "mimetype": "text/x-python",
   "name": "python",
   "nbconvert_exporter": "python",
   "pygments_lexer": "ipython3",
   "version": "3.8.12"
  }
 },
 "nbformat": 4,
 "nbformat_minor": 4
}
